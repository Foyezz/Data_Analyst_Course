{
 "cells": [
  {
   "cell_type": "markdown",
   "id": "109fa7f4",
   "metadata": {},
   "source": [
    "## Importing the Packages"
   ]
  },
  {
   "cell_type": "code",
   "execution_count": 7,
   "id": "8ebf4e31",
   "metadata": {},
   "outputs": [],
   "source": [
    "import numpy as np"
   ]
  },
  {
   "cell_type": "code",
   "execution_count": 8,
   "id": "7d28ea1b",
   "metadata": {},
   "outputs": [],
   "source": [
    "np.set_printoptions(suppress = True, linewidth= 100, precision = 2)"
   ]
  },
  {
   "cell_type": "markdown",
   "id": "2f02d84f",
   "metadata": {},
   "source": [
    "## Importing the Dataset"
   ]
  },
  {
   "cell_type": "code",
   "execution_count": 9,
   "id": "319f889d",
   "metadata": {},
   "outputs": [
    {
     "data": {
      "text/plain": [
       "array([[48010226.  ,         nan,    35000.  , ...,         nan,         nan,     9452.96],\n",
       "       [57693261.  ,         nan,    30000.  , ...,         nan,         nan,     4679.7 ],\n",
       "       [59432726.  ,         nan,    15000.  , ...,         nan,         nan,     1969.83],\n",
       "       ...,\n",
       "       [50415990.  ,         nan,    10000.  , ...,         nan,         nan,     2185.64],\n",
       "       [46154151.  ,         nan,         nan, ...,         nan,         nan,     3199.4 ],\n",
       "       [66055249.  ,         nan,    10000.  , ...,         nan,         nan,      301.9 ]])"
      ]
     },
     "execution_count": 9,
     "metadata": {},
     "output_type": "execute_result"
    }
   ],
   "source": [
    "# delimiter=';': Specifies the delimiter\n",
    "#skip_header=1: Skips the first row of the CSV file\n",
    "#autostrip=True: Trims leading and trailing whitespaces from the loaded data\n",
    "\n",
    "raw_data = np.genfromtxt('loan-data.csv',\n",
    "                         delimiter =';',\n",
    "                         skip_header = 1,\n",
    "                         autostrip = True)\n",
    "raw_data"
   ]
  },
  {
   "cell_type": "markdown",
   "id": "6cd8a70c",
   "metadata": {},
   "source": [
    "## Checking for Incomplete Data"
   ]
  },
  {
   "cell_type": "code",
   "execution_count": 10,
   "id": "f679cf6f",
   "metadata": {},
   "outputs": [
    {
     "data": {
      "text/plain": [
       "88005"
      ]
     },
     "execution_count": 10,
     "metadata": {},
     "output_type": "execute_result"
    }
   ],
   "source": [
    "np.isnan(raw_data).sum()"
   ]
  },
  {
   "cell_type": "code",
   "execution_count": 11,
   "id": "403f787d",
   "metadata": {},
   "outputs": [
    {
     "name": "stderr",
     "output_type": "stream",
     "text": [
      "C:\\Users\\foyez\\AppData\\Local\\Temp\\ipykernel_10376\\1743576735.py:5: RuntimeWarning: Mean of empty slice\n",
      "  temporary_mean = np.nanmean(raw_data, axis = 0)\n"
     ]
    }
   ],
   "source": [
    "#temporary fill finds the maximum value in the array (raw_data) and adds 1 to it\n",
    "temporary_fill = np.nanmax(raw_data) + 1\n",
    "\n",
    "#Computes the mean values of the raw_data array along the columns, excluding NaN values.\n",
    "temporary_mean = np.nanmean(raw_data, axis = 0)   "
   ]
  },
  {
   "cell_type": "code",
   "execution_count": 12,
   "id": "bd04dbe0",
   "metadata": {},
   "outputs": [
    {
     "data": {
      "text/plain": [
       "array([54015809.19,         nan,    15273.46,         nan,    15311.04,         nan,       16.62,\n",
       "            440.92,         nan,         nan,         nan,         nan,         nan,     3143.85])"
      ]
     },
     "execution_count": 12,
     "metadata": {},
     "output_type": "execute_result"
    }
   ],
   "source": [
    "temporary_mean"
   ]
  },
  {
   "cell_type": "code",
   "execution_count": 13,
   "id": "3b2d8c42",
   "metadata": {},
   "outputs": [
    {
     "name": "stderr",
     "output_type": "stream",
     "text": [
      "C:\\Users\\foyez\\AppData\\Local\\Temp\\ipykernel_10376\\585169560.py:2: RuntimeWarning: All-NaN slice encountered\n",
      "  temporary_stat = np.array([np.nanmin(raw_data, axis = 0),\n",
      "C:\\Users\\foyez\\AppData\\Local\\Temp\\ipykernel_10376\\585169560.py:4: RuntimeWarning: All-NaN slice encountered\n",
      "  np.nanmax(raw_data, axis = 0)])\n"
     ]
    }
   ],
   "source": [
    "#The temporary_stat store the calculated statistics (minimum, mean, and maximum)\n",
    "temporary_stat = np.array([np.nanmin(raw_data, axis = 0),\n",
    "                          temporary_mean,\n",
    "                          np.nanmax(raw_data, axis = 0)])"
   ]
  },
  {
   "cell_type": "code",
   "execution_count": 14,
   "id": "1a304c7a",
   "metadata": {},
   "outputs": [
    {
     "data": {
      "text/plain": [
       "array([[  373332.  ,         nan,     1000.  ,         nan,     1000.  ,         nan,        6.  ,\n",
       "              31.42,         nan,         nan,         nan,         nan,         nan,        0.  ],\n",
       "       [54015809.19,         nan,    15273.46,         nan,    15311.04,         nan,       16.62,\n",
       "             440.92,         nan,         nan,         nan,         nan,         nan,     3143.85],\n",
       "       [68616519.  ,         nan,    35000.  ,         nan,    35000.  ,         nan,       28.99,\n",
       "            1372.97,         nan,         nan,         nan,         nan,         nan,    41913.62]])"
      ]
     },
     "execution_count": 14,
     "metadata": {},
     "output_type": "execute_result"
    }
   ],
   "source": [
    "temporary_stat"
   ]
  },
  {
   "cell_type": "markdown",
   "id": "d762cff6",
   "metadata": {},
   "source": [
    "## Splitting the Dataset"
   ]
  },
  {
   "cell_type": "markdown",
   "id": "c9f42eb0",
   "metadata": {},
   "source": [
    "### Splitting the columns"
   ]
  },
  {
   "cell_type": "code",
   "execution_count": 19,
   "id": "ee60383b",
   "metadata": {},
   "outputs": [
    {
     "data": {
      "text/plain": [
       "array([[ 1],\n",
       "       [ 3],\n",
       "       [ 5],\n",
       "       [ 8],\n",
       "       [ 9],\n",
       "       [10],\n",
       "       [11],\n",
       "       [12]], dtype=int64)"
      ]
     },
     "execution_count": 19,
     "metadata": {},
     "output_type": "execute_result"
    }
   ],
   "source": [
    "#column_strings: An array containing the indices (column) of NaN values within the temporary_mean array.\n",
    "column_strings = np.argwhere(np.isnan(temporary_mean))\n",
    "column_strings"
   ]
  },
  {
   "cell_type": "code",
   "execution_count": 20,
   "id": "6b84ba6e",
   "metadata": {},
   "outputs": [
    {
     "data": {
      "text/plain": [
       "array([ 1,  3,  5,  8,  9, 10, 11, 12], dtype=int64)"
      ]
     },
     "execution_count": 20,
     "metadata": {},
     "output_type": "execute_result"
    }
   ],
   "source": [
    "#The squeeze() function is then applied to remove any unnecessary dimensions and obtain a 1-dimensional array.\n",
    "column_strings = np.argwhere(np.isnan(temporary_mean)).squeeze()\n",
    "column_strings"
   ]
  },
  {
   "cell_type": "code",
   "execution_count": 21,
   "id": "19faedea",
   "metadata": {},
   "outputs": [
    {
     "data": {
      "text/plain": [
       "array([ 0,  2,  4,  6,  7, 13], dtype=int64)"
      ]
     },
     "execution_count": 21,
     "metadata": {},
     "output_type": "execute_result"
    }
   ],
   "source": [
    "# Columns that only contain numeric value\n",
    "column_numeric = np.argwhere(np.isnan(temporary_mean) == False).squeeze()\n",
    "column_numeric"
   ]
  },
  {
   "cell_type": "markdown",
   "id": "ac450a30",
   "metadata": {},
   "source": [
    "### Re-importing the Dataset"
   ]
  },
  {
   "cell_type": "code",
   "execution_count": 22,
   "id": "c9a756e2",
   "metadata": {},
   "outputs": [
    {
     "data": {
      "text/plain": [
       "array([['May-15', 'Current', '36 months', ..., 'Verified',\n",
       "        'https://www.lendingclub.com/browse/loanDetail.action?loan_id=48010226', 'CA'],\n",
       "       ['', 'Current', '36 months', ..., 'Source Verified',\n",
       "        'https://www.lendingclub.com/browse/loanDetail.action?loan_id=57693261', 'NY'],\n",
       "       ['Sep-15', 'Current', '36 months', ..., 'Verified',\n",
       "        'https://www.lendingclub.com/browse/loanDetail.action?loan_id=59432726', 'PA'],\n",
       "       ...,\n",
       "       ['Jun-15', 'Current', '36 months', ..., 'Source Verified',\n",
       "        'https://www.lendingclub.com/browse/loanDetail.action?loan_id=50415990', 'CA'],\n",
       "       ['Apr-15', 'Current', '36 months', ..., 'Source Verified',\n",
       "        'https://www.lendingclub.com/browse/loanDetail.action?loan_id=46154151', 'OH'],\n",
       "       ['Dec-15', 'Current', '36 months', ..., '',\n",
       "        'https://www.lendingclub.com/browse/loanDetail.action?loan_id=66055249', 'IL']],\n",
       "      dtype='<U69')"
      ]
     },
     "execution_count": 22,
     "metadata": {},
     "output_type": "execute_result"
    }
   ],
   "source": [
    "#array containing string data loaded from the specified columns of the CSV file.\n",
    "#usecols=column_strings: Specifies the columns to be loaded.\n",
    "\n",
    "loan_data_strings = np.genfromtxt('loan-data.csv',\n",
    "                                 delimiter= ';',\n",
    "                                 skip_header= 1,\n",
    "                                 autostrip= True,\n",
    "                                 usecols= column_strings,\n",
    "                                 dtype = str)\n",
    "loan_data_strings"
   ]
  },
  {
   "cell_type": "code",
   "execution_count": 23,
   "id": "4095d8c5",
   "metadata": {},
   "outputs": [
    {
     "data": {
      "text/plain": [
       "array([[48010226.  ,    35000.  ,    35000.  ,       13.33,     1184.86,     9452.96],\n",
       "       [57693261.  ,    30000.  ,    30000.  , 68616520.  ,      938.57,     4679.7 ],\n",
       "       [59432726.  ,    15000.  ,    15000.  , 68616520.  ,      494.86,     1969.83],\n",
       "       ...,\n",
       "       [50415990.  ,    10000.  ,    10000.  , 68616520.  , 68616520.  ,     2185.64],\n",
       "       [46154151.  , 68616520.  ,    10000.  ,       16.55,      354.3 ,     3199.4 ],\n",
       "       [66055249.  ,    10000.  ,    10000.  , 68616520.  ,      309.97,      301.9 ]])"
      ]
     },
     "execution_count": 23,
     "metadata": {},
     "output_type": "execute_result"
    }
   ],
   "source": [
    "#array containing numeric data loaded from the specified columns of the CSV file.\n",
    "\n",
    "\n",
    "loan_data_numeric = np.genfromtxt('loan-data.csv',\n",
    "                                 delimiter= ';',\n",
    "                                 skip_header= 1,\n",
    "                                 autostrip= True,\n",
    "                                 usecols= column_numeric,\n",
    "                                 filling_values= temporary_fill)\n",
    "loan_data_numeric"
   ]
  },
  {
   "cell_type": "markdown",
   "id": "04633f5f",
   "metadata": {},
   "source": [
    "### Name of the Columns"
   ]
  },
  {
   "cell_type": "code",
   "execution_count": 25,
   "id": "0dd217eb",
   "metadata": {},
   "outputs": [
    {
     "data": {
      "text/plain": [
       "array(['id', 'issue_d', 'loan_amnt', 'loan_status', 'funded_amnt', 'term', 'int_rate',\n",
       "       'installment', 'grade', 'sub_grade', 'verification_status', 'url', 'addr_state',\n",
       "       'total_pymnt'], dtype='<U19')"
      ]
     },
     "execution_count": 25,
     "metadata": {},
     "output_type": "execute_result"
    }
   ],
   "source": [
    "# header_all stores all the columns name\n",
    "# skip_footer= raw_data.shape[0]: ignore all the rows except 1st one\n",
    "\n",
    "header_all = np.genfromtxt('loan-data.csv',\n",
    "                                 delimiter= ';',\n",
    "                                 skip_footer = raw_data.shape[0],\n",
    "                                 autostrip= True,\n",
    "                                 dtype = str)\n",
    "header_all"
   ]
  },
  {
   "cell_type": "code",
   "execution_count": 26,
   "id": "b7a889dd",
   "metadata": {},
   "outputs": [],
   "source": [
    "header_strings, header_numeric = header_all[column_strings], header_all[column_numeric]"
   ]
  },
  {
   "cell_type": "code",
   "execution_count": 27,
   "id": "fb1ce2db",
   "metadata": {},
   "outputs": [
    {
     "data": {
      "text/plain": [
       "array(['issue_d', 'loan_status', 'term', 'grade', 'sub_grade', 'verification_status', 'url',\n",
       "       'addr_state'], dtype='<U19')"
      ]
     },
     "execution_count": 27,
     "metadata": {},
     "output_type": "execute_result"
    }
   ],
   "source": [
    "header_strings"
   ]
  },
  {
   "cell_type": "code",
   "execution_count": 28,
   "id": "27bd8936",
   "metadata": {},
   "outputs": [
    {
     "data": {
      "text/plain": [
       "array(['id', 'loan_amnt', 'funded_amnt', 'int_rate', 'installment', 'total_pymnt'], dtype='<U19')"
      ]
     },
     "execution_count": 28,
     "metadata": {},
     "output_type": "execute_result"
    }
   ],
   "source": [
    "header_numeric"
   ]
  },
  {
   "cell_type": "markdown",
   "id": "3cbde567",
   "metadata": {},
   "source": [
    "### Creating the Checkpoints"
   ]
  },
  {
   "cell_type": "code",
   "execution_count": 29,
   "id": "17a3fbe9",
   "metadata": {},
   "outputs": [],
   "source": [
    "#checkpoint function, which saves data and headers into a NumPy .npz file and returns the loaded checkpoint variable.\n",
    "\n",
    "def checkpoint(file_name, checkpoint_header, checkpoint_data):\n",
    "    np.savez(file_name, header = checkpoint_header, data = checkpoint_data)\n",
    "    checkpoint_variable = np.load(file_name + '.npz')\n",
    "    return (checkpoint_variable)"
   ]
  },
  {
   "cell_type": "code",
   "execution_count": 30,
   "id": "54430341",
   "metadata": {},
   "outputs": [],
   "source": [
    "checkpoint_test = checkpoint('checkpoint_test', header_strings, loan_data_strings)"
   ]
  },
  {
   "cell_type": "code",
   "execution_count": 31,
   "id": "40b94d5f",
   "metadata": {},
   "outputs": [
    {
     "data": {
      "text/plain": [
       "array(['issue_d', 'loan_status', 'term', 'grade', 'sub_grade', 'verification_status', 'url',\n",
       "       'addr_state'], dtype='<U19')"
      ]
     },
     "execution_count": 31,
     "metadata": {},
     "output_type": "execute_result"
    }
   ],
   "source": [
    "checkpoint_test['header']"
   ]
  },
  {
   "cell_type": "code",
   "execution_count": 32,
   "id": "79a0d64e",
   "metadata": {},
   "outputs": [
    {
     "data": {
      "text/plain": [
       "array([['May-15', 'Current', '36 months', ..., 'Verified',\n",
       "        'https://www.lendingclub.com/browse/loanDetail.action?loan_id=48010226', 'CA'],\n",
       "       ['', 'Current', '36 months', ..., 'Source Verified',\n",
       "        'https://www.lendingclub.com/browse/loanDetail.action?loan_id=57693261', 'NY'],\n",
       "       ['Sep-15', 'Current', '36 months', ..., 'Verified',\n",
       "        'https://www.lendingclub.com/browse/loanDetail.action?loan_id=59432726', 'PA'],\n",
       "       ...,\n",
       "       ['Jun-15', 'Current', '36 months', ..., 'Source Verified',\n",
       "        'https://www.lendingclub.com/browse/loanDetail.action?loan_id=50415990', 'CA'],\n",
       "       ['Apr-15', 'Current', '36 months', ..., 'Source Verified',\n",
       "        'https://www.lendingclub.com/browse/loanDetail.action?loan_id=46154151', 'OH'],\n",
       "       ['Dec-15', 'Current', '36 months', ..., '',\n",
       "        'https://www.lendingclub.com/browse/loanDetail.action?loan_id=66055249', 'IL']],\n",
       "      dtype='<U69')"
      ]
     },
     "execution_count": 32,
     "metadata": {},
     "output_type": "execute_result"
    }
   ],
   "source": [
    "checkpoint_test['data']"
   ]
  },
  {
   "cell_type": "code",
   "execution_count": 33,
   "id": "d252e513",
   "metadata": {},
   "outputs": [
    {
     "data": {
      "text/plain": [
       "True"
      ]
     },
     "execution_count": 33,
     "metadata": {},
     "output_type": "execute_result"
    }
   ],
   "source": [
    "np.array_equal(checkpoint_test['data'], loan_data_strings)"
   ]
  },
  {
   "cell_type": "code",
   "execution_count": null,
   "id": "2d98a975",
   "metadata": {},
   "outputs": [],
   "source": []
  }
 ],
 "metadata": {
  "kernelspec": {
   "display_name": "Python 3 (ipykernel)",
   "language": "python",
   "name": "python3"
  },
  "language_info": {
   "codemirror_mode": {
    "name": "ipython",
    "version": 3
   },
   "file_extension": ".py",
   "mimetype": "text/x-python",
   "name": "python",
   "nbconvert_exporter": "python",
   "pygments_lexer": "ipython3",
   "version": "3.9.12"
  }
 },
 "nbformat": 4,
 "nbformat_minor": 5
}
